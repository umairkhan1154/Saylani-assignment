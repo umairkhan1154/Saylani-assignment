{
 "cells": [
  {
   "cell_type": "markdown",
   "metadata": {},
   "source": [
    "Q 1"
   ]
  },
  {
   "cell_type": "markdown",
   "metadata": {},
   "source": [
    "Object-oriented programming is one of the\n",
    "most effective approaches to writing software. In object-oriented programming you\n",
    "write classes that represent real-world things\n",
    "and situations, and you create objects based on these\n",
    "classes."
   ]
  },
  {
   "cell_type": "markdown",
   "metadata": {},
   "source": [
    "Q 2"
   ]
  },
  {
   "cell_type": "markdown",
   "metadata": {},
   "source": [
    "It provides a clear modular structure for programs which makes it good for defining abstract datatypes in which implementation details are hidden.\n",
    "Objects can also be reused within an across applications. ...\n",
    "It makes software easier to maintain. ...\n",
    "Reuse also enables faster development"
   ]
  },
  {
   "cell_type": "markdown",
   "metadata": {},
   "source": [
    "Q 3"
   ]
  },
  {
   "cell_type": "markdown",
   "metadata": {},
   "source": [
    "function describes the behaviour of the model, they donot have any varable.\n",
    "methods are called by variables"
   ]
  },
  {
   "cell_type": "markdown",
   "metadata": {},
   "source": [
    "Q 4"
   ]
  },
  {
   "cell_type": "markdown",
   "metadata": {},
   "source": [
    "class is a function of attribues and functions.\n",
    "object is inheritance of a class\n",
    "attributes are the variables your class have like model name etc\n",
    "behaviour is the way the object can do anything"
   ]
  },
  {
   "cell_type": "markdown",
   "metadata": {},
   "source": [
    "Q 5"
   ]
  },
  {
   "cell_type": "code",
   "execution_count": 44,
   "metadata": {},
   "outputs": [],
   "source": [
    "class Car():\n",
    "    def __init__(self, name,colour,year,company,miles):\n",
    "        self.name = name\n",
    "        self.colour=colour\n",
    "        self.year = year\n",
    "        self.company = company\n",
    "        self.miles = miles\n",
    "    def description(self):\n",
    "        full_name= f\"the name of car is {self.company} {self.name} {self.year}\"\n",
    "        return full_name\n",
    "    def color(self):\n",
    "        print (f\"The colour of the car is {self.colour}\")\n",
    "    def read_odometer(self):\n",
    "        print (f\"the car has run  {self.miles} miles\")"
   ]
  },
  {
   "cell_type": "code",
   "execution_count": 45,
   "metadata": {},
   "outputs": [],
   "source": [
    "Car = Car('mehran','grey',2012,'suzuki',900)"
   ]
  },
  {
   "cell_type": "code",
   "execution_count": 46,
   "metadata": {},
   "outputs": [
    {
     "data": {
      "text/plain": [
       "'the name of car is suzuki mehran 2012'"
      ]
     },
     "execution_count": 46,
     "metadata": {},
     "output_type": "execute_result"
    }
   ],
   "source": [
    "Car.description()"
   ]
  },
  {
   "cell_type": "code",
   "execution_count": 47,
   "metadata": {},
   "outputs": [
    {
     "name": "stdout",
     "output_type": "stream",
     "text": [
      "the car has run  900\n"
     ]
    }
   ],
   "source": [
    "Car.read_odometer()"
   ]
  },
  {
   "cell_type": "code",
   "execution_count": 49,
   "metadata": {},
   "outputs": [
    {
     "name": "stdout",
     "output_type": "stream",
     "text": [
      "The color of the car is grey\n"
     ]
    }
   ],
   "source": [
    "Car.color()"
   ]
  },
  {
   "cell_type": "code",
   "execution_count": null,
   "metadata": {},
   "outputs": [],
   "source": []
  }
 ],
 "metadata": {
  "kernelspec": {
   "display_name": "Python 3",
   "language": "python",
   "name": "python3"
  },
  "language_info": {
   "codemirror_mode": {
    "name": "ipython",
    "version": 3
   },
   "file_extension": ".py",
   "mimetype": "text/x-python",
   "name": "python",
   "nbconvert_exporter": "python",
   "pygments_lexer": "ipython3",
   "version": "3.7.3"
  }
 },
 "nbformat": 4,
 "nbformat_minor": 2
}
