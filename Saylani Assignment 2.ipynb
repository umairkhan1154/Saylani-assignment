{
 "cells": [
  {
   "cell_type": "markdown",
   "metadata": {},
   "source": [
    "question 1"
   ]
  },
  {
   "cell_type": "code",
   "execution_count": null,
   "metadata": {},
   "outputs": [],
   "source": [
    "subjects=[\"isl\",\"eng\",\"phy\",\"math\",\"chem\"]\n",
    "n = 5\n",
    "marks,sum = [],0\n",
    "for i in range(0,5):\n",
    "    print(subjects[i])\n",
    "    marks.append(float(input(\"marks:\")))\n",
    "    sum = sum + marks[i]\n",
    "percentage = (sum/(n*100))*100\n",
    "for i in range(0,n):\n",
    "    print(subjects[i],\":\",marks[i],sep=\"\")\n",
    "if percentage >=80:\n",
    "    print(\"your percentage is\",\"%.2f\"%percentage,\"%\",\"grade:A-one\")\n",
    "elif percentage <80 and percentage >=70:\n",
    "    print(\"your percentage is\",\"%.2f\"%percentage,\"%\",\"grade:A\")\n",
    "elif percentage <70 and percentage >=60:\n",
    "    print(\"your percentage is\",\"%.2f\"%percentage,\"%\",\"grade:B\")\n",
    "elif percentage <60 and percentage >=50:\n",
    "    print(\"your percentage is\",\"%.2f\"%percentage,\"%\",\"grade:C\")\n",
    "elif percentage <50 and percentage >= 40:\n",
    "    print(\"your percentage is\",\"%.2f\"%percentage,\"%\",\"grade:D\")\n",
    "elif percentage <40 and percentage >= 33:\n",
    "    print(\"your percentage is\",\"%.2f\"%percentage,\"%\",\"grade:E\")\n",
    "else:\n",
    "        print(\"you are fail\")\n",
    "    "
   ]
  },
  {
   "cell_type": "markdown",
   "metadata": {},
   "source": [
    "question 2"
   ]
  },
  {
   "cell_type": "code",
   "execution_count": null,
   "metadata": {},
   "outputs": [],
   "source": [
    "number=int(input(\"enter any number:\"))\n",
    "if (number%2)  ==0:\n",
    "    print(f'{number} is even number')\n",
    "else:\n",
    "    print(f'{number} is odd number')"
   ]
  },
  {
   "cell_type": "markdown",
   "metadata": {},
   "source": [
    "question 3"
   ]
  },
  {
   "cell_type": "code",
   "execution_count": null,
   "metadata": {},
   "outputs": [],
   "source": [
    "list = [1,2,3,4]\n",
    "print(\"length of the list is \",len(list))"
   ]
  },
  {
   "cell_type": "markdown",
   "metadata": {},
   "source": [
    "question 4"
   ]
  },
  {
   "cell_type": "code",
   "execution_count": null,
   "metadata": {},
   "outputs": [],
   "source": [
    "list =[ 1,2,3,4,5,5]\n",
    "sum = 0\n",
    "for i in range(0,len(list)):\n",
    "    sum +=  list[i]\n",
    "sum"
   ]
  },
  {
   "cell_type": "markdown",
   "metadata": {},
   "source": [
    "question 5"
   ]
  },
  {
   "cell_type": "code",
   "execution_count": null,
   "metadata": {},
   "outputs": [],
   "source": [
    "list = [1,2,3,4]\n",
    "max(list)"
   ]
  },
  {
   "cell_type": "markdown",
   "metadata": {},
   "source": [
    "question 6"
   ]
  },
  {
   "cell_type": "code",
   "execution_count": null,
   "metadata": {},
   "outputs": [],
   "source": [
    "a =[1,1,2,3,5,8,13,21,34,55,89]\n",
    "for i in a:\n",
    "    if i < 5:\n",
    "        print(i)"
   ]
  }
 ],
 "metadata": {
  "kernelspec": {
   "display_name": "Python 3",
   "language": "python",
   "name": "python3"
  },
  "language_info": {
   "codemirror_mode": {
    "name": "ipython",
    "version": 3
   },
   "file_extension": ".py",
   "mimetype": "text/x-python",
   "name": "python",
   "nbconvert_exporter": "python",
   "pygments_lexer": "ipython3",
   "version": "3.7.3"
  }
 },
 "nbformat": 4,
 "nbformat_minor": 2
}
