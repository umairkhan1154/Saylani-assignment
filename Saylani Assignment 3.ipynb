{
 "cells": [
  {
   "cell_type": "markdown",
   "metadata": {},
   "source": [
    "question 1"
   ]
  },
  {
   "cell_type": "code",
   "execution_count": null,
   "metadata": {},
   "outputs": [],
   "source": [
    "def calculator(num1,num2,opr):\n",
    "    if opr == \"+\":\n",
    "        print(num1+num2)\n",
    "    elif opr == \"-\":\n",
    "        print(num1-num2)\n",
    "    elif opr == \"/\":\n",
    "        print(num1/num2)\n",
    "    elif opr == \"*\":\n",
    "        print(num1*num2)\n",
    "    elif opr == \"**\":\n",
    "        print(num1**num2)\n",
    "calculator(2,3,'**')"
   ]
  },
  {
   "cell_type": "markdown",
   "metadata": {},
   "source": [
    "question 2"
   ]
  },
  {
   "cell_type": "code",
   "execution_count": null,
   "metadata": {},
   "outputs": [],
   "source": [
    "list = [a,a,a,a,a,a]\n",
    "for i in list:\n",
    "    if type(i) == int:\n",
    "        print(\"yes there is numerical value\")\n",
    "        break\n",
    "    else:\n",
    "        print(\"there is no numeric value\")\n",
    "        break"
   ]
  },
  {
   "cell_type": "markdown",
   "metadata": {},
   "source": [
    "question 3"
   ]
  },
  {
   "cell_type": "code",
   "execution_count": null,
   "metadata": {},
   "outputs": [],
   "source": [
    "dic = {\"name\":\"Hamza\", \"age\":23, \"gender\":\"male\", 'qua':\"ABCD\"}\n",
    "dic['city'] = 'karachi'\n",
    "dic"
   ]
  },
  {
   "cell_type": "markdown",
   "metadata": {},
   "source": [
    "question 4"
   ]
  },
  {
   "cell_type": "code",
   "execution_count": null,
   "metadata": {},
   "outputs": [],
   "source": [
    "dic = {10:1, 1:23, 12:3, 13:4}\n",
    "a = 0\n",
    "for k,v in dic.items():\n",
    "        a += k+v\n",
    "a"
   ]
  },
  {
   "cell_type": "markdown",
   "metadata": {},
   "source": [
    "question 5"
   ]
  },
  {
   "cell_type": "code",
   "execution_count": null,
   "metadata": {},
   "outputs": [],
   "source": [
    "a = 0\n",
    "dup = []\n",
    "list = [1,2,3,1,5,2]\n",
    "for i in range(len(list)):\n",
    "    a +=1\n",
    "    for j in range(a,len(list)):\n",
    "        if list[i] == list[j] and list[i] in list:\n",
    "            dup.append(list[i])\n",
    "print(\"the duplicate numbers in the list are\",dup)"
   ]
  },
  {
   "cell_type": "markdown",
   "metadata": {},
   "source": [
    "question 6"
   ]
  },
  {
   "cell_type": "code",
   "execution_count": null,
   "metadata": {},
   "outputs": [],
   "source": [
    "a = 0\n",
    "k = {\"a\":1,\"b\":2,\"c\":1,\"d\":3}\n",
    "dup,Dup = [],[]\n",
    "for i in k.values():\n",
    "    dup.append(i)\n",
    "for s in range(0,3):\n",
    "    a+=1\n",
    "    for j in range(a,3):\n",
    "        if dup[s] == dup[j] and dup[s]  in dup:\n",
    "            Dup.append(dup[s])\n",
    "print(\"the duplicate value in keys is \",Dup)\n",
    "    "
   ]
  }
 ],
 "metadata": {
  "kernelspec": {
   "display_name": "Python 3",
   "language": "python",
   "name": "python3"
  },
  "language_info": {
   "codemirror_mode": {
    "name": "ipython",
    "version": 3
   },
   "file_extension": ".py",
   "mimetype": "text/x-python",
   "name": "python",
   "nbconvert_exporter": "python",
   "pygments_lexer": "ipython3",
   "version": "3.7.3"
  }
 },
 "nbformat": 4,
 "nbformat_minor": 2
}
