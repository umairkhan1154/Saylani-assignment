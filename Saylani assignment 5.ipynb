{
 "cells": [
  {
   "cell_type": "markdown",
   "metadata": {},
   "source": [
    "Q no 1"
   ]
  },
  {
   "cell_type": "code",
   "execution_count": 1,
   "metadata": {},
   "outputs": [
    {
     "name": "stdout",
     "output_type": "stream",
     "text": [
      "write a number: 5\n",
      "the factorial of 5 is 120\n"
     ]
    }
   ],
   "source": [
    "number = int(input(\"write a number: \"))\n",
    "fact = 1\n",
    "for i in range(1,number+1):\n",
    "    fact = fact *i\n",
    "print(f'the factorial of {number} is {fact}')"
   ]
  },
  {
   "cell_type": "markdown",
   "metadata": {},
   "source": [
    "Q no 2"
   ]
  },
  {
   "cell_type": "code",
   "execution_count": 2,
   "metadata": {},
   "outputs": [
    {
     "name": "stdout",
     "output_type": "stream",
     "text": [
      "the number of uppercase letters is :1\n",
      "the number of lowercase letters is :4\n"
     ]
    }
   ],
   "source": [
    "uppercase,lowercase = 0,0\n",
    "def f(x):\n",
    "    global uppercase\n",
    "    global lowercase\n",
    "    for i in x:\n",
    "        if str.isupper(i) == True:\n",
    "            uppercase += 1\n",
    "            \n",
    "        else:\n",
    "            lowercase += 1 \n",
    "    print(f'the number of uppercase letters is :{uppercase}')\n",
    "    print(f'the number of lowercase letters is :{lowercase}')\n",
    "f('Umair')"
   ]
  },
  {
   "cell_type": "markdown",
   "metadata": {},
   "source": [
    "Q 3"
   ]
  },
  {
   "cell_type": "code",
   "execution_count": 3,
   "metadata": {},
   "outputs": [
    {
     "name": "stdout",
     "output_type": "stream",
     "text": [
      "[2, 4]\n"
     ]
    }
   ],
   "source": [
    "def even(x):\n",
    "    print([i for i in x if i %2==0])\n",
    "list = [2,3,4,5]\n",
    "even(list)"
   ]
  },
  {
   "cell_type": "markdown",
   "metadata": {},
   "source": [
    "Q 4"
   ]
  },
  {
   "cell_type": "code",
   "execution_count": 4,
   "metadata": {},
   "outputs": [
    {
     "name": "stdout",
     "output_type": "stream",
     "text": [
      "no, its not a palndrom\n"
     ]
    }
   ],
   "source": [
    "def reverse(y):\n",
    "    rev = y[::-1]\n",
    "    if rev == y:\n",
    "        print(\"yes, its a palndrom\")\n",
    "    else:\n",
    "        print(\"no, its not a palndrom\")\n",
    "reverse(\"say\")    "
   ]
  },
  {
   "cell_type": "markdown",
   "metadata": {},
   "source": [
    "Q 5"
   ]
  },
  {
   "cell_type": "code",
   "execution_count": 30,
   "metadata": {},
   "outputs": [
    {
     "name": "stdout",
     "output_type": "stream",
     "text": [
      "write a number: 6\n",
      "no its not a prime numer\n"
     ]
    }
   ],
   "source": [
    "num = int(input(\"write a number: \"))\n",
    "def f(a):\n",
    "    for i in range(2,a):\n",
    "        if (a % i) == 0:\n",
    "            print(\"no its not a prime numer\")\n",
    "            break\n",
    "        else:\n",
    "            print('its a prime number')\n",
    "f(num)"
   ]
  },
  {
   "cell_type": "markdown",
   "metadata": {},
   "source": [
    "Q 6"
   ]
  },
  {
   "cell_type": "code",
   "execution_count": 37,
   "metadata": {},
   "outputs": [
    {
     "name": "stdout",
     "output_type": "stream",
     "text": [
      "the user bought ['shirt', 'pent', 'watch'] from the market\n"
     ]
    }
   ],
   "source": [
    "def shopping(*items):\n",
    "    for i in items:\n",
    "        print(f\"the user bought {i} from the market\")\n",
    "shopping([\"shirt\",\"pent\",\"watch\"]) \n",
    "    "
   ]
  },
  {
   "cell_type": "code",
   "execution_count": null,
   "metadata": {},
   "outputs": [],
   "source": []
  }
 ],
 "metadata": {
  "kernelspec": {
   "display_name": "Python 3",
   "language": "python",
   "name": "python3"
  },
  "language_info": {
   "codemirror_mode": {
    "name": "ipython",
    "version": 3
   },
   "file_extension": ".py",
   "mimetype": "text/x-python",
   "name": "python",
   "nbconvert_exporter": "python",
   "pygments_lexer": "ipython3",
   "version": "3.7.3"
  }
 },
 "nbformat": 4,
 "nbformat_minor": 2
}
